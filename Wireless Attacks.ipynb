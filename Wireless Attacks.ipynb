{
 "cells": [
  {
   "cell_type": "markdown",
   "metadata": {},
   "source": [
    "# Wireless Attacks "
   ]
  },
  {
   "cell_type": "markdown",
   "metadata": {},
   "source": [
    "The aim of a wireless attack is to capture information sent across the network and intrude with the network traffic. There are four main attacks, \n",
    "\n",
    "1. Packet Sniffing ( Discussed in another section ) \n",
    "2. Rogue Access Points \n",
    "3. Jamming \n",
    "4. Evil Twinning "
   ]
  },
  {
   "cell_type": "markdown",
   "metadata": {},
   "source": [
    "### Rogue Access Points"
   ]
  },
  {
   "cell_type": "markdown",
   "metadata": {},
   "source": [
    "A Rogue AP is any access point that is unauthorized on a network. These access points make the entire network suseptible to DDoS attacks, packet captures, and ARP poisoning. "
   ]
  },
  {
   "cell_type": "markdown",
   "metadata": {},
   "source": [
    "### Jamming"
   ]
  },
  {
   "cell_type": "markdown",
   "metadata": {},
   "source": [
    "Creating wireless interference within a network causes other mehthods of wireless attacks to become more accesible. Bluetooth devices, a microwave oven, or a cordless phone are small factors that can cause this interference to happen. "
   ]
  },
  {
   "cell_type": "markdown",
   "metadata": {},
   "source": [
    "### Evil Twinning"
   ]
  },
  {
   "cell_type": "markdown",
   "metadata": {},
   "source": [
    "By configuring a wireless access point exactly as the target existing network, attackers can take a Mr. Hyde form. The attacker's access point is indistinguishable from the actual access points. "
   ]
  },
  {
   "cell_type": "markdown",
   "metadata": {},
   "source": [
    "## 802.11 Wireless Tools"
   ]
  },
  {
   "cell_type": "markdown",
   "metadata": {},
   "source": [
    "### bully "
   ]
  },
  {
   "cell_type": "markdown",
   "metadata": {},
   "source": [
    "A Wi-Fi protected Setup (WPS) allows users to configure devices in a network without needing to type in a passphrase, rather just a small PIN. This makes brute force attacks perfect to exploit that vulnerability. Bully is the tool to use for this scenario. "
   ]
  },
  {
   "cell_type": "raw",
   "metadata": {},
   "source": [
    "bully mon0 -b 00:25:9C:97:4F:48 -e Mandela2 -c 9"
   ]
  },
  {
   "cell_type": "markdown",
   "metadata": {},
   "source": [
    "1. **mon0** is the name of the wireless adapter in monitor mode.\n",
    "\n",
    "2. **--b 00:25:9C:97:4F:48** is the BSSID of the vulnerable AP.\n",
    "\n",
    "3. **-e Mandela2** is the SSID of the AP.\n",
    "\n",
    "4. **-c 9**  is the channel the AP is broadcasting on."
   ]
  },
  {
   "cell_type": "markdown",
   "metadata": {},
   "source": [
    "bully can also be used to gain informationfor the offline pixiewps tool. "
   ]
  },
  {
   "cell_type": "markdown",
   "metadata": {},
   "source": [
    "### aircrack-ng"
   ]
  },
  {
   "cell_type": "markdown",
   "metadata": {},
   "source": [
    "Aircrack-ng is special through its method of containing tools that aid the processes of detection, packet sniffing, and password cracking\n",
    "\n",
    "It contains tools such as, \n",
    "\n",
    "1. Airmon-ng\n",
    "2. Airodump-ng\n",
    "3. Aireplay-ng\n",
    "4. Airbase-ng"
   ]
  },
  {
   "cell_type": "markdown",
   "metadata": {},
   "source": [
    "##### Airmon-ng "
   ]
  },
  {
   "cell_type": "markdown",
   "metadata": {},
   "source": [
    "A script that puts a network interface card into monitor mode, thus allowing the capturing of packets to be available without authenication or a connection to an access point. "
   ]
  },
  {
   "cell_type": "raw",
   "metadata": {},
   "source": [
    "airmon-ng start <interface name>"
   ]
  },
  {
   "cell_type": "markdown",
   "metadata": {},
   "source": [
    "The command above will concatenate the interface name with \"mon\" to inform that the monitor mode has been enabled. "
   ]
  },
  {
   "cell_type": "markdown",
   "metadata": {},
   "source": [
    "##### Airodump-ng"
   ]
  },
  {
   "cell_type": "markdown",
   "metadata": {},
   "source": [
    "Captures and saves raw data packets after monitor mode has been enabled. "
   ]
  },
  {
   "cell_type": "raw",
   "metadata": {},
   "source": [
    "airodump-ng <interface name> # the new interface name with the monitor mode enabled. "
   ]
  },
  {
   "cell_type": "markdown",
   "metadata": {},
   "source": [
    "The command above displayes all the access points and their MAC addresses. "
   ]
  },
  {
   "cell_type": "markdown",
   "metadata": {},
   "source": [
    "##### Aireplay-ng "
   ]
  },
  {
   "cell_type": "markdown",
   "metadata": {},
   "source": [
    "Aireplay can capture traffic from a live network or use packets from an existing Pcap file to inject into network, thus creating artificial traffic. "
   ]
  },
  {
   "cell_type": "markdown",
   "metadata": {},
   "source": [
    "##### Aircrack-ng "
   ]
  },
  {
   "cell_type": "markdown",
   "metadata": {},
   "source": [
    "Aircrack is then run to brute force the WEP/WPA key. "
   ]
  },
  {
   "cell_type": "markdown",
   "metadata": {},
   "source": [
    "## Bluetooth Tools"
   ]
  },
  {
   "cell_type": "markdown",
   "metadata": {},
   "source": [
    "### spooftooph"
   ]
  },
  {
   "cell_type": "markdown",
   "metadata": {},
   "source": [
    "Abilities that spooftooph contains: \n",
    "\n",
    "1. Clone and log Bluetooth device information\n",
    "\n",
    "2. Generate a random new Bluetooth profile\n",
    "\n",
    "3. Change Bluetooth profile every X seconds\n",
    "\n",
    "4. Specify device information for Bluetooth interface\n",
    "\n",
    "5. Select device to clone from scan log"
   ]
  },
  {
   "cell_type": "raw",
   "metadata": {},
   "source": [
    "spooftooph -i <interface> -s -d scan.log"
   ]
  },
  {
   "cell_type": "markdown",
   "metadata": {},
   "source": [
    "The command above: \n",
    "\n",
    "1. Scans a local area for devices \n",
    "2. Saves the list of devices found "
   ]
  },
  {
   "cell_type": "raw",
   "metadata": {},
   "source": [
    "spooftooph -i <interface> -r"
   ]
  },
  {
   "cell_type": "markdown",
   "metadata": {},
   "source": [
    "The command above randomly generates a bluetooth profile. "
   ]
  },
  {
   "cell_type": "raw",
   "metadata": {},
   "source": [
    "spooftooph -i <interface > -t 10 "
   ]
  },
  {
   "cell_type": "markdown",
   "metadata": {},
   "source": [
    "The command above scans for devices every 10 seconds and clones the first profile on the list. "
   ]
  }
 ],
 "metadata": {
  "kernelspec": {
   "display_name": "Python 3",
   "language": "python",
   "name": "python3"
  },
  "language_info": {
   "codemirror_mode": {
    "name": "ipython",
    "version": 3
   },
   "file_extension": ".py",
   "mimetype": "text/x-python",
   "name": "python",
   "nbconvert_exporter": "python",
   "pygments_lexer": "ipython3",
   "version": "3.7.6"
  }
 },
 "nbformat": 4,
 "nbformat_minor": 4
}
